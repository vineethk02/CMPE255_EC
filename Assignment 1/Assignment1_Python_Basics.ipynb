{
 "cells": [
  {
   "cell_type": "markdown",
   "id": "9f54fce6",
   "metadata": {},
   "source": [
    "# Assignment 1 — Python Basics (Crash Course)"
   ]
  },
  {
   "cell_type": "markdown",
   "id": "2f3a5ebb",
   "metadata": {},
   "source": [
    "# Quickstart\n",
    "This notebook covers core Python concepts often demonstrated in one-sitting crash courses:\n",
    "variables, numbers, strings, collections, control flow, functions, generators, exceptions, files, classes, modules, comprehension, and a small project.\n"
   ]
  },
  {
   "cell_type": "code",
   "execution_count": 1,
   "id": "86e7ca0f",
   "metadata": {},
   "outputs": [
    {
     "name": "stdout",
     "output_type": "stream",
     "text": [
      "21 3.14159 Vineeth True <class 'int'> <class 'float'> <class 'str'> <class 'bool'>\n"
     ]
    }
   ],
   "source": [
    "# Variables & basic types\n",
    "age = 21\n",
    "pi = 3.14159\n",
    "name = \"Vineeth\"\n",
    "is_dev = True\n",
    "print(age, pi, name, is_dev, type(age), type(pi), type(name), type(is_dev))"
   ]
  },
  {
   "cell_type": "code",
   "execution_count": 2,
   "id": "41c6a08b",
   "metadata": {},
   "outputs": [
    {
     "name": "stdout",
     "output_type": "stream",
     "text": [
      "2.3333333333333335 2 1 1024\n"
     ]
    }
   ],
   "source": [
    "# Math operators and integer division vs float division\n",
    "print(7/3, 7//3, 7%3, 2**10)"
   ]
  },
  {
   "cell_type": "code",
   "execution_count": 3,
   "id": "4bf3696c",
   "metadata": {},
   "outputs": [
    {
     "name": "stdout",
     "output_type": "stream",
     "text": [
      "Python fun nuf si nohtyP\n",
      "PYTHON IS FUN Python is powerful\n",
      "lang='Python', length=6\n"
     ]
    }
   ],
   "source": [
    "# Strings: slicing, methods, f-strings\n",
    "s = \"Python is fun\"\n",
    "print(s[:6], s[-3:], s[::-1])\n",
    "print(s.upper(), s.replace(\"fun\", \"powerful\"))\n",
    "lang = \"Python\"\n",
    "print(f\"{lang=}, length={len(lang)}\")"
   ]
  },
  {
   "cell_type": "code",
   "execution_count": 4,
   "id": "64313f59",
   "metadata": {},
   "outputs": [
    {
     "name": "stdout",
     "output_type": "stream",
     "text": [
      "[1, 2, 3, 3, 4] (1, 2, 3) {1, 2, 3} {'name': 'Vineeth', 'role': 'Software Engineer'} Software Engineer\n"
     ]
    }
   ],
   "source": [
    "# Lists, tuples, sets, dicts\n",
    "lst = [1, 2, 3, 3]\n",
    "tup = (1, 2, 3)\n",
    "st = set(lst)           # removes duplicates\n",
    "d = {\"name\": \"Vineeth\", \"role\": \"Software Engineer\"}\n",
    "\n",
    "lst.append(4)\n",
    "print(lst, tup, st, d, d.get(\"role\"))"
   ]
  },
  {
   "cell_type": "code",
   "execution_count": 5,
   "id": "383066f5",
   "metadata": {},
   "outputs": [
    {
     "name": "stdout",
     "output_type": "stream",
     "text": [
      "[0, 1, 2, 3, 4, 5, 6, 7, 8, 9] [0, 2, 4, 6, 8] [0, 1, 4, 9, 16, 25, 36, 49, 64, 81]\n"
     ]
    }
   ],
   "source": [
    "# List slicing and comprehensions\n",
    "nums = list(range(10))\n",
    "evens = [x for x in nums if x % 2 == 0]\n",
    "squares = [x*x for x in nums]\n",
    "print(nums, evens, squares)"
   ]
  },
  {
   "cell_type": "code",
   "execution_count": 6,
   "id": "2b565049",
   "metadata": {},
   "outputs": [
    {
     "name": "stdout",
     "output_type": "stream",
     "text": [
      "medium-ish\n"
     ]
    }
   ],
   "source": [
    "# Conditionals\n",
    "x = 42\n",
    "if x > 50:\n",
    "    print(\"big\")\n",
    "elif 25 <= x <= 50:\n",
    "    print(\"medium-ish\")\n",
    "else:\n",
    "    print(\"small\")"
   ]
  },
  {
   "cell_type": "code",
   "execution_count": 7,
   "id": "8d76ba61",
   "metadata": {},
   "outputs": [
    {
     "name": "stdout",
     "output_type": "stream",
     "text": [
      "sum: 10\n",
      "countdown: 3\n",
      "countdown: 2\n",
      "countdown: 1\n"
     ]
    }
   ],
   "source": [
    "# Loops\n",
    "total = 0\n",
    "for i in range(5):\n",
    "    total += i\n",
    "print(\"sum:\", total)\n",
    "\n",
    "n = 3\n",
    "while n > 0:\n",
    "    print(\"countdown:\", n)\n",
    "    n -= 1"
   ]
  },
  {
   "cell_type": "code",
   "execution_count": 8,
   "id": "da6d5f23",
   "metadata": {},
   "outputs": [
    {
     "name": "stdout",
     "output_type": "stream",
     "text": [
      "hello, Vineeth\n",
      "10\n",
      "language=Python, style=concise\n"
     ]
    }
   ],
   "source": [
    "# Functions, *args, **kwargs, default params\n",
    "def greet(who=\"world\"):\n",
    "    return f\"hello, {who}\"\n",
    "\n",
    "def add(*args):\n",
    "    return sum(args)\n",
    "\n",
    "def describe(**kwargs):\n",
    "    return \", \".join(f\"{k}={v}\" for k,v in kwargs.items())\n",
    "\n",
    "print(greet(\"Vineeth\"))\n",
    "print(add(1,2,3,4))\n",
    "print(describe(language=\"Python\", style=\"concise\"))"
   ]
  },
  {
   "cell_type": "code",
   "execution_count": 9,
   "id": "7e3ca935",
   "metadata": {},
   "outputs": [
    {
     "name": "stdout",
     "output_type": "stream",
     "text": [
      "[1, 4, 9, 16, 25]\n",
      "[2, 4]\n"
     ]
    }
   ],
   "source": [
    "# Lambdas and higher-order functions\n",
    "nums = [1,2,3,4,5]\n",
    "print(list(map(lambda x: x*x, nums)))\n",
    "print(list(filter(lambda x: x%2==0, nums)))"
   ]
  },
  {
   "cell_type": "code",
   "execution_count": 10,
   "id": "0e9c4d5d",
   "metadata": {},
   "outputs": [
    {
     "name": "stdout",
     "output_type": "stream",
     "text": [
      "gen: 3\n",
      "gen: 2\n",
      "gen: 1\n",
      "[0, 1, 4, 9, 16]\n"
     ]
    }
   ],
   "source": [
    "# Generators (yield) and generator expressions\n",
    "def countdown(n):\n",
    "    while n > 0:\n",
    "        yield n\n",
    "        n -= 1\n",
    "\n",
    "for v in countdown(3):\n",
    "    print(\"gen:\", v)\n",
    "\n",
    "gen_expr = (x*x for x in range(5))\n",
    "print(list(gen_expr))"
   ]
  },
  {
   "cell_type": "code",
   "execution_count": 11,
   "id": "b76b9929",
   "metadata": {},
   "outputs": [
    {
     "name": "stdout",
     "output_type": "stream",
     "text": [
      "5.0\n",
      "cannot divide by zero: division by zero\n"
     ]
    }
   ],
   "source": [
    "# Exceptions\n",
    "def safe_divide(a, b):\n",
    "    try:\n",
    "        return a / b\n",
    "    except ZeroDivisionError as e:\n",
    "        return f\"cannot divide by zero: {e}\"\n",
    "\n",
    "print(safe_divide(10, 2))\n",
    "print(safe_divide(5, 0))"
   ]
  },
  {
   "cell_type": "code",
   "execution_count": 12,
   "id": "7ee67201",
   "metadata": {},
   "outputs": [
    {
     "name": "stdout",
     "output_type": "stream",
     "text": [
      "hello file!\n",
      "second line\n"
     ]
    }
   ],
   "source": [
    "# File I/O (writes a temp file and reads it back)\n",
    "from pathlib import Path\n",
    "p = Path(\"tmp_demo.txt\")\n",
    "p.write_text(\"hello file!\\nsecond line\")\n",
    "print(p.read_text())"
   ]
  },
  {
   "cell_type": "code",
   "execution_count": 13,
   "id": "ed5df65b",
   "metadata": {},
   "outputs": [
    {
     "name": "stdout",
     "output_type": "stream",
     "text": [
      "mystery ...\n",
      "fido woof\n"
     ]
    }
   ],
   "source": [
    "# Classes, attributes, methods, @property, inheritance\n",
    "class Animal:\n",
    "    def __init__(self, name):\n",
    "        self.name = name\n",
    "    def speak(self):\n",
    "        return \"...\"\n",
    "\n",
    "class Dog(Animal):\n",
    "    def speak(self):\n",
    "        return \"woof\"\n",
    "\n",
    "a = Animal(\"mystery\")\n",
    "d = Dog(\"fido\")\n",
    "print(a.name, a.speak())\n",
    "print(d.name, d.speak())"
   ]
  },
  {
   "cell_type": "code",
   "execution_count": 14,
   "id": "58b151cf",
   "metadata": {},
   "outputs": [
    {
     "name": "stdout",
     "output_type": "stream",
     "text": [
      "12.0 tails\n",
      "2025-10-13 14:08:32.485667 2025-10-20 14:08:32.485670\n"
     ]
    }
   ],
   "source": [
    "# Modules & standard library: math, random, datetime\n",
    "import math, random\n",
    "from datetime import datetime, timedelta\n",
    "\n",
    "print(math.sqrt(144), random.choice([\"heads\", \"tails\"]))\n",
    "print(datetime.now(), datetime.now() + timedelta(days=7))"
   ]
  },
  {
   "cell_type": "code",
   "execution_count": 15,
   "id": "24fcd843",
   "metadata": {},
   "outputs": [
    {
     "name": "stdout",
     "output_type": "stream",
     "text": [
      "['vineeth@example.com', 'me@domain.org']\n"
     ]
    }
   ],
   "source": [
    "# Regular expressions\n",
    "import re\n",
    "text = \"email me at vineeth@example.com or me@domain.org\"\n",
    "emails = re.findall(r\"[\\w\\.-]+@[\\w\\.-]+\", text)\n",
    "print(emails)"
   ]
  },
  {
   "cell_type": "code",
   "execution_count": 16,
   "id": "7e11dbff",
   "metadata": {},
   "outputs": [
    {
     "name": "stdout",
     "output_type": "stream",
     "text": [
      "[('python', 2), ('great', 2), ('fun', 2), ('things', 1)]\n"
     ]
    }
   ],
   "source": [
    "# Mini-project: word frequency counter (ignoring stopwords)\n",
    "from collections import Counter\n",
    "text = \"Python is great and Python is fun. Fun things are great.\"\n",
    "words = [w.strip(\".,!?:;\").lower() for w in text.split()]\n",
    "stop = {\"is\",\"are\",\"and\"}\n",
    "filtered = [w for w in words if w not in stop]\n",
    "counts = Counter(filtered)\n",
    "print(counts.most_common())"
   ]
  },
  {
   "cell_type": "markdown",
   "id": "9c1a0fab",
   "metadata": {},
   "source": [
    "---\n",
    "### ✅ What to demo in the walkthrough video\n",
    "- Show quick edits and re-runs of cells (Colab runtime)\n",
    "- Expand `Classes` cell to add another subclass on the fly\n",
    "- Tweak the regex and explain the pattern\n",
    "- Change the mini-project text and show updated counts\n"
   ]
  }
 ],
 "metadata": {
  "colab": {
   "provenance": []
  },
  "kernelspec": {
   "display_name": "Python 3.13 (rag256)",
   "language": "python",
   "name": "rag256"
  },
  "language_info": {
   "codemirror_mode": {
    "name": "ipython",
    "version": 3
   },
   "file_extension": ".py",
   "mimetype": "text/x-python",
   "name": "python",
   "nbconvert_exporter": "python",
   "pygments_lexer": "ipython3",
   "version": "3.13.5"
  }
 },
 "nbformat": 4,
 "nbformat_minor": 5
}
