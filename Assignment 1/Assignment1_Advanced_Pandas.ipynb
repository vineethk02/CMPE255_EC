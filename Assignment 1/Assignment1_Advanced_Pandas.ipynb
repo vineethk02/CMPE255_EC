{
 "cells": [
  {
   "cell_type": "markdown",
   "id": "b0d8be1e",
   "metadata": {},
   "source": [
    "# Assignment 1 — Advanced Pandas"
   ]
  },
  {
   "cell_type": "markdown",
   "id": "58f26358",
   "metadata": {},
   "source": [
    "# Advanced Pandas — indexing, joins, groupby, pivot, timeseries, missing data, performance"
   ]
  },
  {
   "cell_type": "code",
   "execution_count": 1,
   "id": "3d119af6",
   "metadata": {},
   "outputs": [
    {
     "ename": "ModuleNotFoundError",
     "evalue": "No module named 'pandas'",
     "output_type": "error",
     "traceback": [
      "\u001b[31m---------------------------------------------------------------------------\u001b[39m",
      "\u001b[31mModuleNotFoundError\u001b[39m                       Traceback (most recent call last)",
      "\u001b[36mCell\u001b[39m\u001b[36m \u001b[39m\u001b[32mIn[1]\u001b[39m\u001b[32m, line 1\u001b[39m\n\u001b[32m----> \u001b[39m\u001b[32m1\u001b[39m \u001b[38;5;28;01mimport\u001b[39;00m\u001b[38;5;250m \u001b[39m\u001b[34;01mpandas\u001b[39;00m\u001b[38;5;250m \u001b[39m\u001b[38;5;28;01mas\u001b[39;00m\u001b[38;5;250m \u001b[39m\u001b[34;01mpd\u001b[39;00m\n\u001b[32m      2\u001b[39m \u001b[38;5;28;01mimport\u001b[39;00m\u001b[38;5;250m \u001b[39m\u001b[34;01mnumpy\u001b[39;00m\u001b[38;5;250m \u001b[39m\u001b[38;5;28;01mas\u001b[39;00m\u001b[38;5;250m \u001b[39m\u001b[34;01mnp\u001b[39;00m\n\u001b[32m      3\u001b[39m pd.__version__\n",
      "\u001b[31mModuleNotFoundError\u001b[39m: No module named 'pandas'"
     ]
    }
   ],
   "source": [
    "import pandas as pd\n",
    "import numpy as np\n",
    "pd.__version__"
   ]
  },
  {
   "cell_type": "code",
   "execution_count": 2,
   "id": "1e0282b1",
   "metadata": {},
   "outputs": [
    {
     "ename": "NameError",
     "evalue": "name 'pd' is not defined",
     "output_type": "error",
     "traceback": [
      "\u001b[31m---------------------------------------------------------------------------\u001b[39m",
      "\u001b[31mNameError\u001b[39m                                 Traceback (most recent call last)",
      "\u001b[36mCell\u001b[39m\u001b[36m \u001b[39m\u001b[32mIn[2]\u001b[39m\u001b[32m, line 2\u001b[39m\n\u001b[32m      1\u001b[39m \u001b[38;5;66;03m# Create a sample DataFrame\u001b[39;00m\n\u001b[32m----> \u001b[39m\u001b[32m2\u001b[39m df = \u001b[43mpd\u001b[49m.DataFrame({\n\u001b[32m      3\u001b[39m     \u001b[33m\"\u001b[39m\u001b[33mteam\u001b[39m\u001b[33m\"\u001b[39m: [\u001b[33m\"\u001b[39m\u001b[33mA\u001b[39m\u001b[33m\"\u001b[39m,\u001b[33m\"\u001b[39m\u001b[33mA\u001b[39m\u001b[33m\"\u001b[39m,\u001b[33m\"\u001b[39m\u001b[33mB\u001b[39m\u001b[33m\"\u001b[39m,\u001b[33m\"\u001b[39m\u001b[33mB\u001b[39m\u001b[33m\"\u001b[39m,\u001b[33m\"\u001b[39m\u001b[33mC\u001b[39m\u001b[33m\"\u001b[39m,\u001b[33m\"\u001b[39m\u001b[33mC\u001b[39m\u001b[33m\"\u001b[39m],\n\u001b[32m      4\u001b[39m     \u001b[33m\"\u001b[39m\u001b[33mplayer\u001b[39m\u001b[33m\"\u001b[39m: [\u001b[33m\"\u001b[39m\u001b[33mx\u001b[39m\u001b[33m\"\u001b[39m,\u001b[33m\"\u001b[39m\u001b[33my\u001b[39m\u001b[33m\"\u001b[39m,\u001b[33m\"\u001b[39m\u001b[33mx\u001b[39m\u001b[33m\"\u001b[39m,\u001b[33m\"\u001b[39m\u001b[33my\u001b[39m\u001b[33m\"\u001b[39m,\u001b[33m\"\u001b[39m\u001b[33mx\u001b[39m\u001b[33m\"\u001b[39m,\u001b[33m\"\u001b[39m\u001b[33my\u001b[39m\u001b[33m\"\u001b[39m],\n\u001b[32m      5\u001b[39m     \u001b[33m\"\u001b[39m\u001b[33mpoints\u001b[39m\u001b[33m\"\u001b[39m: [\u001b[32m10\u001b[39m, \u001b[32m12\u001b[39m, \u001b[32m8\u001b[39m, \u001b[32m9\u001b[39m, \u001b[32m15\u001b[39m, \u001b[32m7\u001b[39m],\n\u001b[32m      6\u001b[39m     \u001b[33m\"\u001b[39m\u001b[33massists\u001b[39m\u001b[33m\"\u001b[39m: [\u001b[32m3\u001b[39m, \u001b[32m4\u001b[39m, \u001b[32m5\u001b[39m, \u001b[32m1\u001b[39m, \u001b[32m2\u001b[39m, \u001b[32m2\u001b[39m],\n\u001b[32m      7\u001b[39m     \u001b[33m\"\u001b[39m\u001b[33mdate\u001b[39m\u001b[33m\"\u001b[39m: pd.date_range(\u001b[33m\"\u001b[39m\u001b[33m2025-01-01\u001b[39m\u001b[33m\"\u001b[39m, periods=\u001b[32m6\u001b[39m, freq=\u001b[33m\"\u001b[39m\u001b[33mD\u001b[39m\u001b[33m\"\u001b[39m)\n\u001b[32m      8\u001b[39m })\n\u001b[32m      9\u001b[39m df\n",
      "\u001b[31mNameError\u001b[39m: name 'pd' is not defined"
     ]
    }
   ],
   "source": [
    "# Create a sample DataFrame\n",
    "df = pd.DataFrame({\n",
    "    \"team\": [\"A\",\"A\",\"B\",\"B\",\"C\",\"C\"],\n",
    "    \"player\": [\"x\",\"y\",\"x\",\"y\",\"x\",\"y\"],\n",
    "    \"points\": [10, 12, 8, 9, 15, 7],\n",
    "    \"assists\": [3, 4, 5, 1, 2, 2],\n",
    "    \"date\": pd.date_range(\"2025-01-01\", periods=6, freq=\"D\")\n",
    "})\n",
    "df"
   ]
  },
  {
   "cell_type": "code",
   "execution_count": null,
   "id": "41e323f7",
   "metadata": {},
   "outputs": [],
   "source": [
    "# Indexing & selection\n",
    "df = df.set_index([\"team\",\"player\"]).sort_index()\n",
    "df.loc[(\"A\",\"x\")], df.xs(\"A\", level=\"team\")"
   ]
  },
  {
   "cell_type": "code",
   "execution_count": null,
   "id": "03018126",
   "metadata": {},
   "outputs": [],
   "source": [
    "# GroupBy / aggregations\n",
    "g = df.groupby(level=\"team\").agg(points_mean=(\"points\",\"mean\"),\n",
    "                                 assists_sum=(\"assists\",\"sum\"))\n",
    "g"
   ]
  },
  {
   "cell_type": "code",
   "execution_count": null,
   "id": "2cf02123",
   "metadata": {},
   "outputs": [],
   "source": [
    "# Pivot tables\n",
    "df_reset = df.reset_index()\n",
    "pivot = df_reset.pivot_table(index=\"team\", columns=\"player\",\n",
    "                             values=\"points\", aggfunc=\"mean\")\n",
    "pivot"
   ]
  },
  {
   "cell_type": "code",
   "execution_count": null,
   "id": "c1c58a9c",
   "metadata": {},
   "outputs": [],
   "source": [
    "# Join/Merge\n",
    "roster = pd.DataFrame({\"player\":[\"x\",\"y\",\"z\"], \"position\":[\"G\",\"F\",\"C\"]})\n",
    "merged = df_reset.merge(roster, on=\"player\", how=\"left\")\n",
    "merged"
   ]
  },
  {
   "cell_type": "code",
   "execution_count": null,
   "id": "f79e51ad",
   "metadata": {},
   "outputs": [],
   "source": [
    "# Missing data\n",
    "merged.loc[merged[\"position\"].isna(), \"position\"] = \"UNK\"\n",
    "merged[\"bonus\"] = np.where(merged[\"points\"] >= 10, 1.0, np.nan)\n",
    "merged[\"bonus\"] = merged[\"bonus\"].fillna(0.0)\n",
    "merged.isna().sum(), merged.head()"
   ]
  },
  {
   "cell_type": "code",
   "execution_count": null,
   "id": "58c1dec8",
   "metadata": {},
   "outputs": [],
   "source": [
    "# Time series resampling (synthetic)\n",
    "ts = pd.DataFrame({\"ts\": pd.date_range(\"2025-03-01\", periods=100, freq=\"H\"),\n",
    "                   \"value\": np.random.randn(100).cumsum()})\n",
    "ts = ts.set_index(\"ts\").asfreq(\"H\")\n",
    "daily = ts.resample(\"D\").mean()\n",
    "daily"
   ]
  },
  {
   "cell_type": "code",
   "execution_count": null,
   "id": "466a5143",
   "metadata": {},
   "outputs": [],
   "source": [
    "# Performance: vectorization & categorical\n",
    "N = 200_000\n",
    "big = pd.DataFrame({\n",
    "    \"cat\": np.random.choice(list(\"ABCDE\"), size=N),\n",
    "    \"x\": np.random.randn(N)\n",
    "})\n",
    "big[\"cat\"] = big[\"cat\"].astype(\"category\")\n",
    "res = big.groupby(\"cat\")[\"x\"].mean()\n",
    "res"
   ]
  },
  {
   "cell_type": "markdown",
   "id": "b6cbcdd7",
   "metadata": {},
   "source": [
    "**Exercises**\n",
    "1. Compute per-team rolling 2-game average of points.\n",
    "2. Create a tidy long-format table of stats and build a pivot with `aggfunc=['mean','sum']`.\n",
    "3. Join with a salary table and compute correlation between points and salary by position.\n"
   ]
  }
 ],
 "metadata": {
  "colab": {
   "provenance": []
  },
  "kernelspec": {
   "display_name": "Python 3.13 (rag256)",
   "language": "python",
   "name": "rag256"
  },
  "language_info": {
   "codemirror_mode": {
    "name": "ipython",
    "version": 3
   },
   "file_extension": ".py",
   "mimetype": "text/x-python",
   "name": "python",
   "nbconvert_exporter": "python",
   "pygments_lexer": "ipython3",
   "version": "3.13.5"
  }
 },
 "nbformat": 4,
 "nbformat_minor": 5
}
