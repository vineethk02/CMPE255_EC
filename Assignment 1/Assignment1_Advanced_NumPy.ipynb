{
 "cells": [
  {
   "cell_type": "markdown",
   "id": "2ce4a965",
   "metadata": {},
   "source": [
    "# Assignment 1 — Advanced NumPy"
   ]
  },
  {
   "cell_type": "markdown",
   "id": "b905545c",
   "metadata": {},
   "source": [
    "# Advanced NumPy — vectorization, broadcasting, views vs copies, dtypes, performance tips"
   ]
  },
  {
   "cell_type": "code",
   "execution_count": 1,
   "id": "6d324c8e",
   "metadata": {},
   "outputs": [
    {
     "data": {
      "text/plain": [
       "'2.3.3'"
      ]
     },
     "execution_count": 1,
     "metadata": {},
     "output_type": "execute_result"
    }
   ],
   "source": [
    "import numpy as np\n",
    "np.__version__"
   ]
  },
  {
   "cell_type": "code",
   "execution_count": 2,
   "id": "76c1072e",
   "metadata": {},
   "outputs": [
    {
     "name": "stdout",
     "output_type": "stream",
     "text": [
      "[[ 0  1  2  3]\n",
      " [ 4  5  6  7]\n",
      " [ 8  9 10 11]] (3, 4)\n",
      "[0.   0.25 0.5  0.75 1.  ]\n",
      "[1 2 3] int16\n"
     ]
    }
   ],
   "source": [
    "# Creation & dtypes\n",
    "a = np.arange(12).reshape(3,4)\n",
    "b = np.linspace(0, 1, 5)\n",
    "i16 = np.array([1,2,3], dtype=np.int16)\n",
    "print(a, a.shape)\n",
    "print(b)\n",
    "print(i16, i16.dtype)"
   ]
  },
  {
   "cell_type": "code",
   "execution_count": 3,
   "id": "91609221",
   "metadata": {},
   "outputs": [
    {
     "name": "stdout",
     "output_type": "stream",
     "text": [
      "x: [ 0  1 -1 -1 -1 -1 -1  7  8  9]\n",
      "view: [-1 -1 -1 -1 -1]\n",
      "copy: [2 3 4 5 6]\n"
     ]
    }
   ],
   "source": [
    "# Views vs copies\n",
    "x = np.arange(10)\n",
    "view = x[2:7]     # view\n",
    "copy = x[2:7].copy()\n",
    "view[:] = -1\n",
    "print(\"x:\", x)\n",
    "print(\"view:\", view)\n",
    "print(\"copy:\", copy)"
   ]
  },
  {
   "cell_type": "code",
   "execution_count": 4,
   "id": "39fee79f",
   "metadata": {},
   "outputs": [
    {
     "name": "stdout",
     "output_type": "stream",
     "text": [
      "[[10 21 32]\n",
      " [13 24 35]]\n",
      "[[100 101 102]\n",
      " [103 104 105]]\n"
     ]
    }
   ],
   "source": [
    "# Broadcasting\n",
    "A = np.arange(6).reshape(2,3)\n",
    "v = np.array([10,20,30])\n",
    "print(A + v)  # row-wise broadcast\n",
    "print((A.T + np.array([100, 100])).T)  # column-wise broadcast trick"
   ]
  },
  {
   "cell_type": "code",
   "execution_count": 5,
   "id": "6e1c1bd3",
   "metadata": {},
   "outputs": [
    {
     "name": "stdout",
     "output_type": "stream",
     "text": [
      "[12 14 16 18 20 22 24]\n",
      "[ 2 14 21]\n"
     ]
    }
   ],
   "source": [
    "# Fancy indexing & boolean masks\n",
    "M = np.arange(1,26).reshape(5,5)\n",
    "mask = (M % 2 == 0) & (M > 10)\n",
    "print(M[mask])\n",
    "rows = [0,2,4]; cols = [1,3,0]\n",
    "print(M[rows, cols])"
   ]
  },
  {
   "cell_type": "code",
   "execution_count": 6,
   "id": "62bef45d",
   "metadata": {},
   "outputs": [
    {
     "name": "stdout",
     "output_type": "stream",
     "text": [
      "sum: 66 row-sum: [ 6 22 38] col-mean: [4. 5. 6. 7.]\n"
     ]
    }
   ],
   "source": [
    "# Aggregations & axis semantics\n",
    "X = np.arange(12).reshape(3,4)\n",
    "print(\"sum:\", X.sum(), \"row-sum:\", X.sum(axis=1), \"col-mean:\", X.mean(axis=0))"
   ]
  },
  {
   "cell_type": "code",
   "execution_count": 7,
   "id": "1dc6fc49",
   "metadata": {},
   "outputs": [
    {
     "name": "stdout",
     "output_type": "stream",
     "text": [
      "[3.61803399 1.38196601]\n",
      "[[ 0.4 -0.2]\n",
      " [-0.2  0.6]]\n",
      "solution to Ax=b: [2. 3.]\n"
     ]
    }
   ],
   "source": [
    "# Linear algebra\n",
    "A = np.array([[3,1],[1,2]], dtype=float)\n",
    "eigvals, eigvecs = np.linalg.eig(A)\n",
    "invA = np.linalg.inv(A)\n",
    "x = np.linalg.solve(A, np.array([9,8]))\n",
    "print(eigvals)\n",
    "print(invA)\n",
    "print(\"solution to Ax=b:\", x)"
   ]
  },
  {
   "cell_type": "code",
   "execution_count": 8,
   "id": "b4a07018",
   "metadata": {},
   "outputs": [
    {
     "name": "stdout",
     "output_type": "stream",
     "text": [
      "loop_time=0.0321s, vec_time=0.0005s, speedup≈66.3x\n"
     ]
    }
   ],
   "source": [
    "# Vectorization vs Python loops (timing)\n",
    "import time\n",
    "n = 2_000_00\n",
    "arr = np.random.rand(n)\n",
    "start = time.time()\n",
    "total = 0.0\n",
    "for v in arr:\n",
    "    total += v*v\n",
    "loop_time = time.time() - start\n",
    "\n",
    "start = time.time()\n",
    "total_np = np.sum(arr*arr)\n",
    "vec_time = time.time() - start\n",
    "\n",
    "print(f\"loop_time={loop_time:.4f}s, vec_time={vec_time:.4f}s, speedup≈{loop_time/vec_time:.1f}x\")"
   ]
  },
  {
   "cell_type": "code",
   "execution_count": 9,
   "id": "d55ecfe9",
   "metadata": {},
   "outputs": [
    {
     "name": "stdout",
     "output_type": "stream",
     "text": [
      "[ 0.30471708 -1.03998411  0.7504512   0.94056472 -1.95103519]\n",
      "[[5 9 7]\n",
      " [7 7 7]]\n"
     ]
    }
   ],
   "source": [
    "# Random & reproducibility\n",
    "rng = np.random.default_rng(42)\n",
    "print(rng.normal(size=5))\n",
    "print(rng.integers(0, 10, size=(2,3)))"
   ]
  },
  {
   "cell_type": "markdown",
   "id": "2ff7734b",
   "metadata": {},
   "source": [
    "**Exercises**\n",
    "1. Create a 1000x1000 random matrix and compute the cosine similarity between all rows.\n",
    "2. Implement z-score normalization with broadcasting.\n",
    "3. Replace all values below the column medians with the median.\n"
   ]
  }
 ],
 "metadata": {
  "colab": {
   "provenance": []
  },
  "kernelspec": {
   "display_name": "Python 3.13 (rag256)",
   "language": "python",
   "name": "rag256"
  },
  "language_info": {
   "codemirror_mode": {
    "name": "ipython",
    "version": 3
   },
   "file_extension": ".py",
   "mimetype": "text/x-python",
   "name": "python",
   "nbconvert_exporter": "python",
   "pygments_lexer": "ipython3",
   "version": "3.13.5"
  }
 },
 "nbformat": 4,
 "nbformat_minor": 5
}
